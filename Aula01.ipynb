{
 "cells": [
  {
   "cell_type": "code",
   "execution_count": 4,
   "metadata": {},
   "outputs": [],
   "source": [
    "import pandas as pd\n",
    "\n",
    "df = pd.read_csv ('https://s3.amazonaws.com/automl-example/produtos.csv',sep=';')"
   ]
  },
  {
   "cell_type": "code",
   "execution_count": 35,
   "metadata": {},
   "outputs": [
    {
     "data": {
      "text/html": [
       "<div>\n",
       "<style scoped>\n",
       "    .dataframe tbody tr th:only-of-type {\n",
       "        vertical-align: middle;\n",
       "    }\n",
       "\n",
       "    .dataframe tbody tr th {\n",
       "        vertical-align: top;\n",
       "    }\n",
       "\n",
       "    .dataframe thead th {\n",
       "        text-align: right;\n",
       "    }\n",
       "</style>\n",
       "<table border=\"1\" class=\"dataframe\">\n",
       "  <thead>\n",
       "    <tr style=\"text-align: right;\">\n",
       "      <th></th>\n",
       "      <th>nome</th>\n",
       "      <th>descricao</th>\n",
       "      <th>categoria</th>\n",
       "      <th>todos</th>\n",
       "    </tr>\n",
       "  </thead>\n",
       "  <tbody>\n",
       "    <tr>\n",
       "      <th>0</th>\n",
       "      <td>O Hobbit - 7ª Ed. 2013</td>\n",
       "      <td>Produto NovoBilbo Bolseiro é um hobbit que lev...</td>\n",
       "      <td>livro</td>\n",
       "      <td>O Hobbit - 7ª Ed. 2013  Produto NovoBilbo Bol...</td>\n",
       "    </tr>\n",
       "    <tr>\n",
       "      <th>1</th>\n",
       "      <td>Livro - It A Coisa - Stephen King</td>\n",
       "      <td>Produto NovoDurante as férias escolares de 195...</td>\n",
       "      <td>livro</td>\n",
       "      <td>Livro - It A Coisa - Stephen King  Produto No...</td>\n",
       "    </tr>\n",
       "    <tr>\n",
       "      <th>2</th>\n",
       "      <td>Box  As Crônicas De Gelo E Fogo  Pocket  5 Li...</td>\n",
       "      <td>Produto NovoTodo o reino de Westeros ao alcanc...</td>\n",
       "      <td>livro</td>\n",
       "      <td>Box  As Crônicas De Gelo E Fogo  Pocket  5 Li...</td>\n",
       "    </tr>\n",
       "    <tr>\n",
       "      <th>3</th>\n",
       "      <td>Box Harry Potter</td>\n",
       "      <td>Produto Novo e Físico  A série Harry Potter ch...</td>\n",
       "      <td>livro</td>\n",
       "      <td>Box Harry Potter  Produto Novo e Físico  A sé...</td>\n",
       "    </tr>\n",
       "    <tr>\n",
       "      <th>4</th>\n",
       "      <td>Livro Origem - Dan Brown</td>\n",
       "      <td>Produto NovoDe Onde Viemos? Para Onde Vamos? R...</td>\n",
       "      <td>livro</td>\n",
       "      <td>Livro Origem - Dan Brown  Produto NovoDe Onde...</td>\n",
       "    </tr>\n",
       "  </tbody>\n",
       "</table>\n",
       "</div>"
      ],
      "text/plain": [
       "                                                nome  \\\n",
       "0                            O Hobbit - 7ª Ed. 2013    \n",
       "1                 Livro - It A Coisa - Stephen King    \n",
       "2   Box  As Crônicas De Gelo E Fogo  Pocket  5 Li...   \n",
       "3                                  Box Harry Potter    \n",
       "4                          Livro Origem - Dan Brown    \n",
       "\n",
       "                                           descricao categoria  \\\n",
       "0  Produto NovoBilbo Bolseiro é um hobbit que lev...     livro   \n",
       "1  Produto NovoDurante as férias escolares de 195...     livro   \n",
       "2  Produto NovoTodo o reino de Westeros ao alcanc...     livro   \n",
       "3  Produto Novo e Físico  A série Harry Potter ch...     livro   \n",
       "4  Produto NovoDe Onde Viemos? Para Onde Vamos? R...     livro   \n",
       "\n",
       "                                               todos  \n",
       "0   O Hobbit - 7ª Ed. 2013  Produto NovoBilbo Bol...  \n",
       "1   Livro - It A Coisa - Stephen King  Produto No...  \n",
       "2   Box  As Crônicas De Gelo E Fogo  Pocket  5 Li...  \n",
       "3   Box Harry Potter  Produto Novo e Físico  A sé...  \n",
       "4   Livro Origem - Dan Brown  Produto NovoDe Onde...  "
      ]
     },
     "execution_count": 35,
     "metadata": {},
     "output_type": "execute_result"
    }
   ],
   "source": [
    "df.head()"
   ]
  },
  {
   "cell_type": "code",
   "execution_count": 38,
   "metadata": {},
   "outputs": [
    {
     "name": "stdout",
     "output_type": "stream",
     "text": [
      "<class 'pandas.core.frame.DataFrame'>\n",
      "RangeIndex: 4080 entries, 0 to 4079\n",
      "Data columns (total 3 columns):\n",
      "nome         4080 non-null object\n",
      "descricao    2916 non-null object\n",
      "categoria    4080 non-null object\n",
      "dtypes: object(3)\n",
      "memory usage: 95.7+ KB\n"
     ]
    }
   ],
   "source": [
    "df.info()"
   ]
  },
  {
   "cell_type": "code",
   "execution_count": 12,
   "metadata": {},
   "outputs": [
    {
     "data": {
      "text/plain": [
       "nome         0.000000\n",
       "descricao    0.285294\n",
       "categoria    0.000000\n",
       "todos        0.285294\n",
       "dtype: float64"
      ]
     },
     "execution_count": 12,
     "metadata": {},
     "output_type": "execute_result"
    }
   ],
   "source": [
    "#percentual de valores null\n",
    "df.isna().sum() / len(df) "
   ]
  },
  {
   "cell_type": "code",
   "execution_count": 13,
   "metadata": {},
   "outputs": [
    {
     "name": "stdout",
     "output_type": "stream",
     "text": [
      "<class 'pandas.core.frame.DataFrame'>\n",
      "Int64Index: 2916 entries, 0 to 4079\n",
      "Data columns (total 4 columns):\n",
      "nome         2916 non-null object\n",
      "descricao    2916 non-null object\n",
      "categoria    2916 non-null object\n",
      "todos        2916 non-null object\n",
      "dtypes: object(4)\n",
      "memory usage: 113.9+ KB\n"
     ]
    }
   ],
   "source": [
    "#removendo nulos\n",
    "df.dropna(inplace=True) \n",
    "df.info()"
   ]
  },
  {
   "cell_type": "code",
   "execution_count": 5,
   "metadata": {},
   "outputs": [
    {
     "data": {
      "text/plain": [
       "livro        838\n",
       "maquiagem    788\n",
       "brinquedo    668\n",
       "game         622\n",
       "Name: categoria, dtype: int64"
      ]
     },
     "execution_count": 5,
     "metadata": {},
     "output_type": "execute_result"
    }
   ],
   "source": [
    "#distribuição da categoria\n",
    "\n",
    "#df.groupby('categoria').count()\n",
    "df.categoria.value_counts()"
   ]
  },
  {
   "cell_type": "code",
   "execution_count": 46,
   "metadata": {},
   "outputs": [
    {
     "data": {
      "text/plain": [
       "<matplotlib.axes._subplots.AxesSubplot at 0x7f05c7a40550>"
      ]
     },
     "execution_count": 46,
     "metadata": {},
     "output_type": "execute_result"
    },
    {
     "data": {
      "image/png": "[encoded data removed]",
      "text/plain": [
       "<Figure size 432x288 with 1 Axes>"
      ]
     },
     "metadata": {
      "needs_background": "light"
     },
     "output_type": "display_data"
    }
   ],
   "source": [
    "df.categoria.value_counts().plot(kind='barh')"
   ]
  },
  {
   "cell_type": "code",
   "execution_count": 45,
   "metadata": {},
   "outputs": [
    {
     "data": {
      "text/html": [
       "<div>\n",
       "<style scoped>\n",
       "    .dataframe tbody tr th:only-of-type {\n",
       "        vertical-align: middle;\n",
       "    }\n",
       "\n",
       "    .dataframe tbody tr th {\n",
       "        vertical-align: top;\n",
       "    }\n",
       "\n",
       "    .dataframe thead th {\n",
       "        text-align: right;\n",
       "    }\n",
       "</style>\n",
       "<table border=\"1\" class=\"dataframe\">\n",
       "  <thead>\n",
       "    <tr style=\"text-align: right;\">\n",
       "      <th></th>\n",
       "      <th>nome</th>\n",
       "      <th>descricao</th>\n",
       "      <th>categoria</th>\n",
       "    </tr>\n",
       "  </thead>\n",
       "  <tbody>\n",
       "    <tr>\n",
       "      <th>0</th>\n",
       "      <td>O Hobbit - 7ª Ed. 2013</td>\n",
       "      <td>Produto NovoBilbo Bolseiro é um hobbit que lev...</td>\n",
       "      <td>livro</td>\n",
       "    </tr>\n",
       "    <tr>\n",
       "      <th>1</th>\n",
       "      <td>Livro - It A Coisa - Stephen King</td>\n",
       "      <td>Produto NovoDurante as férias escolares de 195...</td>\n",
       "      <td>livro</td>\n",
       "    </tr>\n",
       "    <tr>\n",
       "      <th>2</th>\n",
       "      <td>Box  As Crônicas De Gelo E Fogo  Pocket  5 Li...</td>\n",
       "      <td>Produto NovoTodo o reino de Westeros ao alcanc...</td>\n",
       "      <td>livro</td>\n",
       "    </tr>\n",
       "    <tr>\n",
       "      <th>3</th>\n",
       "      <td>Box Harry Potter</td>\n",
       "      <td>Produto Novo e Físico  A série Harry Potter ch...</td>\n",
       "      <td>livro</td>\n",
       "    </tr>\n",
       "    <tr>\n",
       "      <th>4</th>\n",
       "      <td>Livro Origem - Dan Brown</td>\n",
       "      <td>Produto NovoDe Onde Viemos? Para Onde Vamos? R...</td>\n",
       "      <td>livro</td>\n",
       "    </tr>\n",
       "  </tbody>\n",
       "</table>\n",
       "</div>"
      ],
      "text/plain": [
       "                                                nome  \\\n",
       "0                            O Hobbit - 7ª Ed. 2013    \n",
       "1                 Livro - It A Coisa - Stephen King    \n",
       "2   Box  As Crônicas De Gelo E Fogo  Pocket  5 Li...   \n",
       "3                                  Box Harry Potter    \n",
       "4                          Livro Origem - Dan Brown    \n",
       "\n",
       "                                           descricao categoria  \n",
       "0  Produto NovoBilbo Bolseiro é um hobbit que lev...     livro  \n",
       "1  Produto NovoDurante as férias escolares de 195...     livro  \n",
       "2  Produto NovoTodo o reino de Westeros ao alcanc...     livro  \n",
       "3  Produto Novo e Físico  A série Harry Potter ch...     livro  \n",
       "4  Produto NovoDe Onde Viemos? Para Onde Vamos? R...     livro  "
      ]
     },
     "execution_count": 45,
     "metadata": {},
     "output_type": "execute_result"
    }
   ],
   "source": [
    "#top 10 palavras que mais ocorrem \n",
    "df.head()"
   ]
  },
  {
   "cell_type": "code",
   "execution_count": 14,
   "metadata": {},
   "outputs": [
    {
     "data": {
      "text/plain": [
       "de      24300\n",
       "e       16042\n",
       "o       12424\n",
       "a       12152\n",
       "do       8791\n",
       "para     8032\n",
       "-        7413\n",
       "em       6900\n",
       "que      6797\n",
       "com      6247\n",
       "dtype: int64"
      ]
     },
     "execution_count": 14,
     "metadata": {},
     "output_type": "execute_result"
    }
   ],
   "source": [
    "##top 10 da porra toda\n",
    "\n",
    "df['todos'] =  df['nome'] + ' ' + df['descricao']\n",
    "\n",
    "palavras = pd.Series(' '.join(df['todos']).lower().split()).value_counts()[:10]\n",
    "palavras"
   ]
  },
  {
   "cell_type": "code",
   "execution_count": 15,
   "metadata": {},
   "outputs": [
    {
     "data": {
      "text/plain": [
       "[('de', 23835),\n",
       " ('e', 15774),\n",
       " ('o', 12238),\n",
       " ('a', 11905),\n",
       " ('do', 8657),\n",
       " ('para', 7913),\n",
       " ('em', 6798),\n",
       " ('que', 6770),\n",
       " ('-', 6220),\n",
       " ('com', 6099),\n",
       " ('da', 5216),\n",
       " ('é', 4426)]"
      ]
     },
     "execution_count": 15,
     "metadata": {},
     "output_type": "execute_result"
    }
   ],
   "source": [
    "from collections import Counter\n",
    "\n",
    "c = Counter()\n",
    "\n",
    "df.descricao.str.lower().str.split(' ').apply(c.update)\n",
    "c.most_common(12)\n"
   ]
  },
  {
   "cell_type": "code",
   "execution_count": 13,
   "metadata": {},
   "outputs": [
    {
     "data": {
      "text/plain": [
       "545"
      ]
     },
     "execution_count": 13,
     "metadata": {},
     "output_type": "execute_result"
    }
   ],
   "source": [
    "c.get('livro')"
   ]
  },
  {
   "cell_type": "code",
   "execution_count": 16,
   "metadata": {},
   "outputs": [
    {
     "name": "stdout",
     "output_type": "stream",
     "text": [
      "The Zen of Python, by Tim Peters\n",
      "\n",
      "Beautiful is better than ugly.\n",
      "Explicit is better than implicit.\n",
      "Simple is better than complex.\n",
      "Complex is better than complicated.\n",
      "Flat is better than nested.\n",
      "Sparse is better than dense.\n",
      "Readability counts.\n",
      "Special cases aren't special enough to break the rules.\n",
      "Although practicality beats purity.\n",
      "Errors should never pass silently.\n",
      "Unless explicitly silenced.\n",
      "In the face of ambiguity, refuse the temptation to guess.\n",
      "There should be one-- and preferably only one --obvious way to do it.\n",
      "Although that way may not be obvious at first unless you're Dutch.\n",
      "Now is better than never.\n",
      "Although never is often better than *right* now.\n",
      "If the implementation is hard to explain, it's a bad idea.\n",
      "If the implementation is easy to explain, it may be a good idea.\n",
      "Namespaces are one honking great idea -- let's do more of those!\n"
     ]
    }
   ],
   "source": [
    "import this"
   ]
  },
  {
   "cell_type": "code",
   "execution_count": null,
   "metadata": {},
   "outputs": [],
   "source": []
  },
  {
   "cell_type": "code",
   "execution_count": 23,
   "metadata": {},
   "outputs": [],
   "source": [
    "from sklearn.feature_extraction.text import CountVectorizer\n",
    "\n",
    "vec = CountVectorizer(ngram_range=(1,1))\n",
    "vec.fit(df.todos)\n",
    "\n",
    "texto = vec.transform(df.todos)\n",
    "\n",
    "#print(pd.DataFrame(texto, columns= get_feature_names()))"
   ]
  },
  {
   "cell_type": "code",
   "execution_count": 21,
   "metadata": {},
   "outputs": [
    {
     "data": {
      "text/plain": [
       "<2916x35466 sparse matrix of type '<class 'numpy.int64'>'\n",
       "\twith 324388 stored elements in Compressed Sparse Row format>"
      ]
     },
     "execution_count": 21,
     "metadata": {},
     "output_type": "execute_result"
    }
   ],
   "source": [
    "texto"
   ]
  },
  {
   "cell_type": "code",
   "execution_count": null,
   "metadata": {},
   "outputs": [],
   "source": []
  }
 ],
 "metadata": {
  "kernelspec": {
   "display_name": "Python 3",
   "language": "python",
   "name": "python3"
  },
  "language_info": {
   "codemirror_mode": {
    "name": "ipython",
    "version": 3
   },
   "file_extension": ".py",
   "mimetype": "text/x-python",
   "name": "python",
   "nbconvert_exporter": "python",
   "pygments_lexer": "ipython3",
   "version": "3.7.3"
  }
 },
 "nbformat": 4,
 "nbformat_minor": 4
}
